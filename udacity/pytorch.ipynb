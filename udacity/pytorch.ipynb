{
 "cells": [
  {
   "cell_type": "markdown",
   "metadata": {},
   "source": [
    "# PyTorch 1"
   ]
  },
  {
   "cell_type": "code",
   "execution_count": 1,
   "metadata": {},
   "outputs": [
    {
     "name": "stdout",
     "output_type": "stream",
     "text": [
      "1.5.0\n"
     ]
    }
   ],
   "source": [
    "import torch\n",
    "print(torch.__version__)"
   ]
  },
  {
   "cell_type": "code",
   "execution_count": 2,
   "metadata": {},
   "outputs": [],
   "source": [
    "def activation(x):\n",
    "    #sigmoid\n",
    "    return 1/(1+torch.exp(-x))"
   ]
  },
  {
   "cell_type": "code",
   "execution_count": 3,
   "metadata": {},
   "outputs": [],
   "source": [
    "# Generamos datos randomicos\n",
    "# Aplicamos un seed\n",
    "torch.manual_seed(7)\n",
    "\n",
    "# Los features seran 5 variables randomicas normales\n",
    "features = torch.randn((1,5))\n",
    "# Los pesos para nuestros dato seran variables randomicas normales tambien\n",
    "weights = torch.randn_like(features) # randn_like copia el shape del argumento\n",
    "\n",
    "#true bias term\n",
    "bias = torch.randn((1,1))"
   ]
  },
  {
   "cell_type": "code",
   "execution_count": 4,
   "metadata": {},
   "outputs": [],
   "source": [
    "h = torch.matmul(features,weights.T)\n",
    "y_prime = activation(h+bias)"
   ]
  },
  {
   "cell_type": "code",
   "execution_count": 5,
   "metadata": {},
   "outputs": [
    {
     "data": {
      "text/plain": [
       "tensor([[0.1595]])"
      ]
     },
     "execution_count": 5,
     "metadata": {},
     "output_type": "execute_result"
    }
   ],
   "source": [
    "y_prime"
   ]
  },
  {
   "cell_type": "code",
   "execution_count": 6,
   "metadata": {},
   "outputs": [
    {
     "data": {
      "text/plain": [
       "tensor([[0.1595]])"
      ]
     },
     "execution_count": 6,
     "metadata": {},
     "output_type": "execute_result"
    }
   ],
   "source": [
    "# Notas del curso\n",
    "y_prime2 = activation(torch.sum(features*weights)+bias)\n",
    "y_prime2"
   ]
  },
  {
   "cell_type": "code",
   "execution_count": 7,
   "metadata": {},
   "outputs": [
    {
     "name": "stdout",
     "output_type": "stream",
     "text": [
      "tensor([[-0.8948, -0.3556,  1.2324,  0.1382, -1.6822]])\n"
     ]
    }
   ],
   "source": [
    "# Notas del curso\n",
    "# Cambiar la forma de un vector, en este caso weights:\n",
    "weights2 = weights\n",
    "print(weights2)"
   ]
  },
  {
   "cell_type": "code",
   "execution_count": 8,
   "metadata": {},
   "outputs": [
    {
     "data": {
      "text/plain": [
       "tensor([[-0.8948],\n",
       "        [-0.3556],\n",
       "        [ 1.2324],\n",
       "        [ 0.1382],\n",
       "        [-1.6822]])"
      ]
     },
     "execution_count": 8,
     "metadata": {},
     "output_type": "execute_result"
    }
   ],
   "source": [
    "# Notas del curso\n",
    "weights2.reshape(-1,1)"
   ]
  },
  {
   "cell_type": "code",
   "execution_count": 9,
   "metadata": {},
   "outputs": [],
   "source": [
    "y = activation(torch.mm(features,weights.reshape(-1,1))+bias)"
   ]
  },
  {
   "cell_type": "code",
   "execution_count": 10,
   "metadata": {},
   "outputs": [
    {
     "data": {
      "text/plain": [
       "tensor([[0.1595]])"
      ]
     },
     "execution_count": 10,
     "metadata": {},
     "output_type": "execute_result"
    }
   ],
   "source": [
    "y"
   ]
  },
  {
   "cell_type": "markdown",
   "metadata": {},
   "source": [
    "### Exercise"
   ]
  },
  {
   "cell_type": "code",
   "execution_count": 11,
   "metadata": {},
   "outputs": [],
   "source": [
    "torch.manual_seed(7)\n",
    "\n",
    "features = torch.randn((1,3))\n",
    "\n",
    "n_input = features.shape[1]\n",
    "\n",
    "n_hidden = 2\n",
    "\n",
    "n_output = 1"
   ]
  },
  {
   "cell_type": "code",
   "execution_count": 12,
   "metadata": {},
   "outputs": [
    {
     "name": "stdout",
     "output_type": "stream",
     "text": [
      "Features:  tensor([[-0.1468,  0.7861,  0.9468]])\n",
      "Input units:  3\n",
      "Hidden units:  2\n",
      "Output units:  1\n"
     ]
    }
   ],
   "source": [
    "print(\"Features: \",features)\n",
    "print(\"Input units: \",n_input)\n",
    "print(\"Hidden units: \",n_hidden)\n",
    "print(\"Output units: \",n_output)"
   ]
  },
  {
   "cell_type": "code",
   "execution_count": 13,
   "metadata": {},
   "outputs": [],
   "source": [
    "W1 =  torch.randn(n_input,n_hidden)\n",
    "W2 = torch.randn(n_hidden,n_output)"
   ]
  },
  {
   "cell_type": "code",
   "execution_count": 14,
   "metadata": {},
   "outputs": [
    {
     "name": "stdout",
     "output_type": "stream",
     "text": [
      "Weights 1:  tensor([[-1.1143,  1.6908],\n",
      "        [-0.8948, -0.3556],\n",
      "        [ 1.2324,  0.1382]])\n",
      "Shape of Weights 1:  torch.Size([3, 2])\n",
      "----------\n",
      "Weights 2:  tensor([[-1.6822],\n",
      "        [ 0.3177]])\n",
      "Shape of Weights 2:  torch.Size([2, 1])\n"
     ]
    }
   ],
   "source": [
    "print(\"Weights 1: \",W1)\n",
    "print(\"Shape of Weights 1: \",W1.size())\n",
    "print(\"-\"*10)\n",
    "print(\"Weights 2: \",W2)\n",
    "print(\"Shape of Weights 2: \",W2.size())\n"
   ]
  },
  {
   "cell_type": "code",
   "execution_count": 15,
   "metadata": {},
   "outputs": [],
   "source": [
    "B1 = torch.randn(1,n_hidden)\n",
    "B2 = torch.randn(1,n_output)"
   ]
  },
  {
   "cell_type": "code",
   "execution_count": 16,
   "metadata": {},
   "outputs": [
    {
     "name": "stdout",
     "output_type": "stream",
     "text": [
      "Bias 1:  tensor([[0.1328, 0.1373]])\n",
      "Shape of Bias 1:  torch.Size([1, 2])\n",
      "----------\n",
      "Bias 2:  tensor([[0.2405]])\n",
      "Shape of Bias 2:  torch.Size([1, 1])\n"
     ]
    }
   ],
   "source": [
    "print(\"Bias 1: \",B1)\n",
    "print(\"Shape of Bias 1: \",B1.size())\n",
    "print(\"-\"*10)\n",
    "print(\"Bias 2: \",B2)\n",
    "print(\"Shape of Bias 2: \",B2.size())\n"
   ]
  },
  {
   "cell_type": "code",
   "execution_count": 17,
   "metadata": {},
   "outputs": [],
   "source": [
    "input_hidden = activation(torch.mm(features,W1.reshape(3,2)))"
   ]
  },
  {
   "cell_type": "code",
   "execution_count": 18,
   "metadata": {},
   "outputs": [
    {
     "data": {
      "text/plain": [
       "torch.Size([1, 2])"
      ]
     },
     "execution_count": 18,
     "metadata": {},
     "output_type": "execute_result"
    }
   ],
   "source": [
    "input_hidden.size()"
   ]
  },
  {
   "cell_type": "code",
   "execution_count": 19,
   "metadata": {},
   "outputs": [
    {
     "data": {
      "text/plain": [
       "tensor([[-0.9687]])"
      ]
     },
     "execution_count": 19,
     "metadata": {},
     "output_type": "execute_result"
    }
   ],
   "source": [
    "hidden_output = torch.mm(input_hidden,W2)\n",
    "hidden_output"
   ]
  },
  {
   "cell_type": "code",
   "execution_count": 20,
   "metadata": {},
   "outputs": [],
   "source": [
    "output = activation(hidden_output)"
   ]
  },
  {
   "cell_type": "code",
   "execution_count": 21,
   "metadata": {},
   "outputs": [
    {
     "data": {
      "text/plain": [
       "tensor([[0.2751]])"
      ]
     },
     "execution_count": 21,
     "metadata": {},
     "output_type": "execute_result"
    }
   ],
   "source": [
    "output"
   ]
  },
  {
   "cell_type": "markdown",
   "metadata": {},
   "source": [
    "## Numpy to Torch and back"
   ]
  },
  {
   "cell_type": "code",
   "execution_count": 28,
   "metadata": {},
   "outputs": [
    {
     "data": {
      "text/plain": [
       "array([[0.4117996 , 0.58731912, 0.41691766],\n",
       "       [0.016623  , 0.31975151, 0.247335  ],\n",
       "       [0.90542944, 0.22058855, 0.7121187 ],\n",
       "       [0.59160907, 0.00447917, 0.31741182]])"
      ]
     },
     "execution_count": 28,
     "metadata": {},
     "output_type": "execute_result"
    }
   ],
   "source": [
    "import numpy as np\n",
    "a = np.random.rand(4,3)\n",
    "a"
   ]
  },
  {
   "cell_type": "code",
   "execution_count": 29,
   "metadata": {},
   "outputs": [
    {
     "data": {
      "text/plain": [
       "tensor([[0.4118, 0.5873, 0.4169],\n",
       "        [0.0166, 0.3198, 0.2473],\n",
       "        [0.9054, 0.2206, 0.7121],\n",
       "        [0.5916, 0.0045, 0.3174]], dtype=torch.float64)"
      ]
     },
     "execution_count": 29,
     "metadata": {},
     "output_type": "execute_result"
    }
   ],
   "source": [
    "b = torch.from_numpy(a)\n",
    "b"
   ]
  },
  {
   "cell_type": "code",
   "execution_count": 30,
   "metadata": {},
   "outputs": [
    {
     "data": {
      "text/plain": [
       "array([[0.4117996 , 0.58731912, 0.41691766],\n",
       "       [0.016623  , 0.31975151, 0.247335  ],\n",
       "       [0.90542944, 0.22058855, 0.7121187 ],\n",
       "       [0.59160907, 0.00447917, 0.31741182]])"
      ]
     },
     "execution_count": 30,
     "metadata": {},
     "output_type": "execute_result"
    }
   ],
   "source": [
    "b.numpy()"
   ]
  },
  {
   "cell_type": "code",
   "execution_count": 31,
   "metadata": {},
   "outputs": [
    {
     "data": {
      "text/plain": [
       "tensor([[0.8236, 1.1746, 0.8338],\n",
       "        [0.0332, 0.6395, 0.4947],\n",
       "        [1.8109, 0.4412, 1.4242],\n",
       "        [1.1832, 0.0090, 0.6348]], dtype=torch.float64)"
      ]
     },
     "execution_count": 31,
     "metadata": {},
     "output_type": "execute_result"
    }
   ],
   "source": [
    "b.mul(2)"
   ]
  },
  {
   "cell_type": "code",
   "execution_count": 32,
   "metadata": {},
   "outputs": [
    {
     "data": {
      "text/plain": [
       "array([[0.4117996 , 0.58731912, 0.41691766],\n",
       "       [0.016623  , 0.31975151, 0.247335  ],\n",
       "       [0.90542944, 0.22058855, 0.7121187 ],\n",
       "       [0.59160907, 0.00447917, 0.31741182]])"
      ]
     },
     "execution_count": 32,
     "metadata": {},
     "output_type": "execute_result"
    }
   ],
   "source": [
    "a"
   ]
  },
  {
   "cell_type": "code",
   "execution_count": 27,
   "metadata": {},
   "outputs": [
    {
     "data": {
      "text/plain": [
       "tensor([[0.9365, 0.1973, 0.0651],\n",
       "        [0.0841, 0.0749, 0.1907],\n",
       "        [0.8917, 0.1836, 0.0508],\n",
       "        [0.5446, 0.7904, 0.6423]], dtype=torch.float64)"
      ]
     },
     "execution_count": 27,
     "metadata": {},
     "output_type": "execute_result"
    }
   ],
   "source": []
  },
  {
   "cell_type": "code",
   "execution_count": null,
   "metadata": {},
   "outputs": [],
   "source": []
  }
 ],
 "metadata": {
  "kernelspec": {
   "display_name": "Python 3",
   "language": "python",
   "name": "python3"
  },
  "language_info": {
   "codemirror_mode": {
    "name": "ipython",
    "version": 3
   },
   "file_extension": ".py",
   "mimetype": "text/x-python",
   "name": "python",
   "nbconvert_exporter": "python",
   "pygments_lexer": "ipython3",
   "version": "3.7.4"
  }
 },
 "nbformat": 4,
 "nbformat_minor": 2
}
