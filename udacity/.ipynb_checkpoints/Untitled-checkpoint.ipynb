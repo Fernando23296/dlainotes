{
 "cells": [
  {
   "cell_type": "markdown",
   "metadata": {},
   "source": [
    "# Gradient Descendient "
   ]
  },
  {
   "cell_type": "code",
   "execution_count": 11,
   "metadata": {},
   "outputs": [
    {
     "name": "stdout",
     "output_type": "stream",
     "text": [
      "0.6899744811276125\n",
      "-0.1899744811276125\n",
      "[ 0.47968131 -0.54063738  0.23904392  0.01872523]\n"
     ]
    }
   ],
   "source": [
    "import numpy as np\n",
    "\n",
    "def sigmoid(x):\n",
    "    return 1/(1+np.exp(-x))\n",
    "\n",
    "def sigmoid_prime(x):\n",
    "    return sigmoid(x)*(1-sigmoid(x))\n",
    "\n",
    "lr = 0.5\n",
    "x = np.array([1,2,3,4])\n",
    "y = np.array(0.5)\n",
    "\n",
    "w = np.array([0.5,-0.5,0.3,0.1])\n",
    "\n",
    "h = np.dot(x,w)\n",
    "\n",
    "nn_output = sigmoid(h)\n",
    "\n",
    "error = y-nn_output\n",
    "\n",
    "error_term = error*(sigmoid_prime(h))\n",
    "\n",
    "\n",
    "\n",
    "del_w =lr * error_term * x\n",
    "\n",
    "print(nn_output)\n",
    "print(error)\n",
    "print(del_w)"
   ]
  },
  {
   "cell_type": "code",
   "execution_count": null,
   "metadata": {},
   "outputs": [],
   "source": []
  }
 ],
 "metadata": {
  "kernelspec": {
   "display_name": "Python 3",
   "language": "python",
   "name": "python3"
  },
  "language_info": {
   "codemirror_mode": {
    "name": "ipython",
    "version": 3
   },
   "file_extension": ".py",
   "mimetype": "text/x-python",
   "name": "python",
   "nbconvert_exporter": "python",
   "pygments_lexer": "ipython3",
   "version": "3.7.4"
  }
 },
 "nbformat": 4,
 "nbformat_minor": 2
}
